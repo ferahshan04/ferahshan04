{
 "cells": [
  {
   "cell_type": "code",
   "execution_count": 8,
   "metadata": {},
   "outputs": [],
   "source": [
    "#pip install yfinance"
   ]
  },
  {
   "cell_type": "code",
   "execution_count": 12,
   "metadata": {},
   "outputs": [
    {
     "name": "stderr",
     "output_type": "stream",
     "text": [
      "c:\\Users\\Patil\\anaconda3\\envs\\myenv\\Lib\\site-packages\\yfinance\\utils.py:775: FutureWarning: The 'unit' keyword in TimedeltaIndex construction is deprecated and will be removed in a future version. Use pd.to_timedelta instead.\n",
      "  df.index += _pd.TimedeltaIndex(dst_error_hours, 'h')\n",
      "c:\\Users\\Patil\\anaconda3\\envs\\myenv\\Lib\\site-packages\\yfinance\\utils.py:775: FutureWarning: The 'unit' keyword in TimedeltaIndex construction is deprecated and will be removed in a future version. Use pd.to_timedelta instead.\n",
      "  df.index += _pd.TimedeltaIndex(dst_error_hours, 'h')\n",
      "c:\\Users\\Patil\\anaconda3\\envs\\myenv\\Lib\\site-packages\\yfinance\\utils.py:775: FutureWarning: The 'unit' keyword in TimedeltaIndex construction is deprecated and will be removed in a future version. Use pd.to_timedelta instead.\n",
      "  df.index += _pd.TimedeltaIndex(dst_error_hours, 'h')\n",
      "c:\\Users\\Patil\\anaconda3\\envs\\myenv\\Lib\\site-packages\\yfinance\\utils.py:775: FutureWarning: The 'unit' keyword in TimedeltaIndex construction is deprecated and will be removed in a future version. Use pd.to_timedelta instead.\n",
      "  df.index += _pd.TimedeltaIndex(dst_error_hours, 'h')\n",
      "c:\\Users\\Patil\\anaconda3\\envs\\myenv\\Lib\\site-packages\\yfinance\\utils.py:775: FutureWarning: The 'unit' keyword in TimedeltaIndex construction is deprecated and will be removed in a future version. Use pd.to_timedelta instead.\n",
      "  df.index += _pd.TimedeltaIndex(dst_error_hours, 'h')\n"
     ]
    }
   ],
   "source": [
    "####################################################\n",
    "## Fetch data from yfinance\n",
    "## 3-year daily data for Coca-Cola, SPY, Pepsi, and USD index\n",
    "import datetime\n",
    "import yfinance as yf\n",
    "import numpy as np\n",
    "import pandas as pd\n",
    "\n",
    "end1 = datetime.date(2024, 12, 31)\n",
    "start1 = end1 - pd.Timedelta(days = 365 * 3)\n",
    "\n",
    "nifty = yf.download(\"^NSEI\", start = start1, end = end1, progress = False)\n",
    "ril = yf.download(\"RELIANCE.NS\", start = start1, end = end1, progress = False)\n",
    "lt = yf.download(\"LT.NS\", start = start1, end = end1, progress = False)\n",
    "tcs = yf.download(\"TCS.NS\", start = start1, end = end1, progress = False)\n",
    "inr = yf.download(\"INR=X\", start = start1, end = end1, progress = False)\n",
    "\n",
    "####################################################\n",
    "## Calculate log returns for the period based on Adj Close prices\n",
    "\n",
    "nifty['nfity'] = np.log(nifty['Adj Close'] / nifty['Adj Close'].shift(1))\n",
    "ril['ril'] = np.log(ril['Adj Close'] / ril['Adj Close'].shift(1))\n",
    "lt['lt'] = np.log(lt['Adj Close'] / lt['Adj Close'].shift(1))\n",
    "tcs['tcs'] = np.log(tcs['Adj Close'] / tcs['Adj Close'].shift(1))\n",
    "inr['inr'] = np.log(inr['Adj Close'] / inr['Adj Close'].shift(1))"
   ]
  },
  {
   "cell_type": "code",
   "execution_count": 16,
   "metadata": {},
   "outputs": [],
   "source": [
    "####################################################\n",
    "## Create a dataframe with X's (spy, pep, usdx) and Y (ko)\n",
    "\n",
    "df = pd.concat([nifty['nfity'], ril['ril'], \n",
    "                lt['lt'], tcs['tcs'],inr['inr']], axis = 1).dropna()\n",
    "\n",
    "## Save the csv file. Good practice to save data files after initial processing\n",
    "df.to_csv(\"D:\\\\SCMA 632\\\\Py\\\\Project_4\\\\G7\\\\data_lin_regression.csv\")\n",
    "\n",
    "####################################################"
   ]
  },
  {
   "cell_type": "code",
   "execution_count": 30,
   "metadata": {},
   "outputs": [
    {
     "name": "stdout",
     "output_type": "stream",
     "text": [
      "<class 'pandas.core.frame.DataFrame'>\n",
      "DatetimeIndex: 518 entries, 2022-01-04 to 2024-02-08\n",
      "Data columns (total 5 columns):\n",
      " #   Column  Non-Null Count  Dtype  \n",
      "---  ------  --------------  -----  \n",
      " 0   nfity   518 non-null    float64\n",
      " 1   ril     518 non-null    float64\n",
      " 2   lt      518 non-null    float64\n",
      " 3   tcs     518 non-null    float64\n",
      " 4   inr     518 non-null    float64\n",
      "dtypes: float64(5)\n",
      "memory usage: 24.3 KB\n"
     ]
    }
   ],
   "source": [
    "df.info()"
   ]
  },
  {
   "cell_type": "code",
   "execution_count": 17,
   "metadata": {},
   "outputs": [
    {
     "data": {
      "text/html": [
       "<div>\n",
       "<style scoped>\n",
       "    .dataframe tbody tr th:only-of-type {\n",
       "        vertical-align: middle;\n",
       "    }\n",
       "\n",
       "    .dataframe tbody tr th {\n",
       "        vertical-align: top;\n",
       "    }\n",
       "\n",
       "    .dataframe thead th {\n",
       "        text-align: right;\n",
       "    }\n",
       "</style>\n",
       "<table border=\"1\" class=\"dataframe\">\n",
       "  <thead>\n",
       "    <tr style=\"text-align: right;\">\n",
       "      <th></th>\n",
       "      <th>nfity</th>\n",
       "      <th>ril</th>\n",
       "      <th>lt</th>\n",
       "      <th>tcs</th>\n",
       "      <th>inr</th>\n",
       "    </tr>\n",
       "  </thead>\n",
       "  <tbody>\n",
       "    <tr>\n",
       "      <th>nfity</th>\n",
       "      <td>1.000000</td>\n",
       "      <td>0.658137</td>\n",
       "      <td>0.635742</td>\n",
       "      <td>0.604942</td>\n",
       "      <td>-0.129605</td>\n",
       "    </tr>\n",
       "    <tr>\n",
       "      <th>ril</th>\n",
       "      <td>0.658137</td>\n",
       "      <td>1.000000</td>\n",
       "      <td>0.340902</td>\n",
       "      <td>0.300392</td>\n",
       "      <td>-0.074983</td>\n",
       "    </tr>\n",
       "    <tr>\n",
       "      <th>lt</th>\n",
       "      <td>0.635742</td>\n",
       "      <td>0.340902</td>\n",
       "      <td>1.000000</td>\n",
       "      <td>0.399671</td>\n",
       "      <td>-0.050535</td>\n",
       "    </tr>\n",
       "    <tr>\n",
       "      <th>tcs</th>\n",
       "      <td>0.604942</td>\n",
       "      <td>0.300392</td>\n",
       "      <td>0.399671</td>\n",
       "      <td>1.000000</td>\n",
       "      <td>-0.070599</td>\n",
       "    </tr>\n",
       "    <tr>\n",
       "      <th>inr</th>\n",
       "      <td>-0.129605</td>\n",
       "      <td>-0.074983</td>\n",
       "      <td>-0.050535</td>\n",
       "      <td>-0.070599</td>\n",
       "      <td>1.000000</td>\n",
       "    </tr>\n",
       "  </tbody>\n",
       "</table>\n",
       "</div>"
      ],
      "text/plain": [
       "          nfity       ril        lt       tcs       inr\n",
       "nfity  1.000000  0.658137  0.635742  0.604942 -0.129605\n",
       "ril    0.658137  1.000000  0.340902  0.300392 -0.074983\n",
       "lt     0.635742  0.340902  1.000000  0.399671 -0.050535\n",
       "tcs    0.604942  0.300392  0.399671  1.000000 -0.070599\n",
       "inr   -0.129605 -0.074983 -0.050535 -0.070599  1.000000"
      ]
     },
     "execution_count": 17,
     "metadata": {},
     "output_type": "execute_result"
    }
   ],
   "source": [
    "df.corr()"
   ]
  },
  {
   "cell_type": "code",
   "execution_count": 20,
   "metadata": {},
   "outputs": [],
   "source": [
    "#pip install statsmodels"
   ]
  },
  {
   "cell_type": "code",
   "execution_count": 36,
   "metadata": {},
   "outputs": [
    {
     "data": {
      "text/html": [
       "<div>\n",
       "<style scoped>\n",
       "    .dataframe tbody tr th:only-of-type {\n",
       "        vertical-align: middle;\n",
       "    }\n",
       "\n",
       "    .dataframe tbody tr th {\n",
       "        vertical-align: top;\n",
       "    }\n",
       "\n",
       "    .dataframe thead th {\n",
       "        text-align: right;\n",
       "    }\n",
       "</style>\n",
       "<table border=\"1\" class=\"dataframe\">\n",
       "  <thead>\n",
       "    <tr style=\"text-align: right;\">\n",
       "      <th></th>\n",
       "      <th>nfity</th>\n",
       "      <th>ril</th>\n",
       "      <th>lt</th>\n",
       "      <th>tcs</th>\n",
       "      <th>inr</th>\n",
       "    </tr>\n",
       "    <tr>\n",
       "      <th>Date</th>\n",
       "      <th></th>\n",
       "      <th></th>\n",
       "      <th></th>\n",
       "      <th></th>\n",
       "      <th></th>\n",
       "    </tr>\n",
       "  </thead>\n",
       "  <tbody>\n",
       "    <tr>\n",
       "      <th>2024-02-02</th>\n",
       "      <td>0.007180</td>\n",
       "      <td>0.021531</td>\n",
       "      <td>-0.006481</td>\n",
       "      <td>0.028683</td>\n",
       "      <td>-0.001518</td>\n",
       "    </tr>\n",
       "    <tr>\n",
       "      <th>2024-02-05</th>\n",
       "      <td>-0.003764</td>\n",
       "      <td>-0.012894</td>\n",
       "      <td>-0.010212</td>\n",
       "      <td>0.001763</td>\n",
       "      <td>0.000864</td>\n",
       "    </tr>\n",
       "    <tr>\n",
       "      <th>2024-02-06</th>\n",
       "      <td>0.007217</td>\n",
       "      <td>-0.007831</td>\n",
       "      <td>0.024388</td>\n",
       "      <td>0.040132</td>\n",
       "      <td>0.001257</td>\n",
       "    </tr>\n",
       "    <tr>\n",
       "      <th>2024-02-07</th>\n",
       "      <td>0.000050</td>\n",
       "      <td>0.010000</td>\n",
       "      <td>-0.008667</td>\n",
       "      <td>-0.012799</td>\n",
       "      <td>-0.000398</td>\n",
       "    </tr>\n",
       "    <tr>\n",
       "      <th>2024-02-08</th>\n",
       "      <td>-0.011544</td>\n",
       "      <td>-0.001839</td>\n",
       "      <td>-0.028172</td>\n",
       "      <td>0.009566</td>\n",
       "      <td>-0.001405</td>\n",
       "    </tr>\n",
       "  </tbody>\n",
       "</table>\n",
       "</div>"
      ],
      "text/plain": [
       "               nfity       ril        lt       tcs       inr\n",
       "Date                                                        \n",
       "2024-02-02  0.007180  0.021531 -0.006481  0.028683 -0.001518\n",
       "2024-02-05 -0.003764 -0.012894 -0.010212  0.001763  0.000864\n",
       "2024-02-06  0.007217 -0.007831  0.024388  0.040132  0.001257\n",
       "2024-02-07  0.000050  0.010000 -0.008667 -0.012799 -0.000398\n",
       "2024-02-08 -0.011544 -0.001839 -0.028172  0.009566 -0.001405"
      ]
     },
     "execution_count": 36,
     "metadata": {},
     "output_type": "execute_result"
    }
   ],
   "source": [
    "df.tail()"
   ]
  },
  {
   "cell_type": "code",
   "execution_count": 37,
   "metadata": {},
   "outputs": [],
   "source": [
    "df1 = pd.read_csv('D:\\\\SCMA 632\\\\Py\\\\Project_4\\\\G7\\\\data_lin_regression.csv')"
   ]
  },
  {
   "cell_type": "code",
   "execution_count": 39,
   "metadata": {},
   "outputs": [
    {
     "name": "stdout",
     "output_type": "stream",
     "text": [
      "<class 'pandas.core.frame.DataFrame'>\n",
      "RangeIndex: 518 entries, 0 to 517\n",
      "Data columns (total 6 columns):\n",
      " #   Column  Non-Null Count  Dtype  \n",
      "---  ------  --------------  -----  \n",
      " 0   Date    518 non-null    object \n",
      " 1   nfity   518 non-null    float64\n",
      " 2   ril     518 non-null    float64\n",
      " 3   lt      518 non-null    float64\n",
      " 4   tcs     518 non-null    float64\n",
      " 5   inr     518 non-null    float64\n",
      "dtypes: float64(5), object(1)\n",
      "memory usage: 24.4+ KB\n"
     ]
    }
   ],
   "source": [
    "df1.info()"
   ]
  },
  {
   "cell_type": "code",
   "execution_count": 49,
   "metadata": {},
   "outputs": [
    {
     "name": "stdout",
     "output_type": "stream",
     "text": [
      "                            OLS Regression Results                            \n",
      "==============================================================================\n",
      "Dep. Variable:                  nfity   R-squared:                       0.717\n",
      "Model:                            OLS   Adj. R-squared:                  0.715\n",
      "Method:                 Least Squares   F-statistic:                     324.9\n",
      "Date:                Thu, 08 Feb 2024   Prob (F-statistic):          4.43e-139\n",
      "Time:                        15:27:11   Log-Likelihood:                 2039.0\n",
      "No. Observations:                 518   AIC:                            -4068.\n",
      "Df Residuals:                     513   BIC:                            -4047.\n",
      "Df Model:                           4                                         \n",
      "Covariance Type:            nonrobust                                         \n",
      "==============================================================================\n",
      "                 coef    std err          t      P>|t|      [0.025      0.975]\n",
      "------------------------------------------------------------------------------\n",
      "const       5.092e-05      0.000      0.243      0.808      -0.000       0.000\n",
      "ril            0.2591      0.015     17.055      0.000       0.229       0.289\n",
      "tcs            0.2196      0.017     12.604      0.000       0.185       0.254\n",
      "lt             0.2178      0.016     13.335      0.000       0.186       0.250\n",
      "inr           -0.1548      0.065     -2.371      0.018      -0.283      -0.027\n",
      "==============================================================================\n",
      "Omnibus:                       56.071   Durbin-Watson:                   1.975\n",
      "Prob(Omnibus):                  0.000   Jarque-Bera (JB):              325.939\n",
      "Skew:                           0.205   Prob(JB):                     1.67e-71\n",
      "Kurtosis:                       6.864   Cond. No.                         313.\n",
      "==============================================================================\n",
      "\n",
      "Notes:\n",
      "[1] Standard Errors assume that the covariance matrix of the errors is correctly specified.\n"
     ]
    }
   ],
   "source": [
    "from statsmodels.api import OLS\n",
    "\n",
    "# Define the dependent and independent variables\n",
    "y = df['nfity']\n",
    "\n",
    "# Add a constant term (intercept)\n",
    "df['const'] = 1\n",
    "\n",
    "X = df[['const','ril', 'tcs', 'lt','inr']]\n",
    "\n",
    "# Fit the OLS regression\n",
    "model = OLS(y, X).fit()\n",
    "\n",
    "# Print the summary of the regression results\n",
    "print(model.summary())"
   ]
  }
 ],
 "metadata": {
  "kernelspec": {
   "display_name": "base",
   "language": "python",
   "name": "python3"
  },
  "language_info": {
   "codemirror_mode": {
    "name": "ipython",
    "version": 3
   },
   "file_extension": ".py",
   "mimetype": "text/x-python",
   "name": "python",
   "nbconvert_exporter": "python",
   "pygments_lexer": "ipython3",
   "version": "3.12.1"
  }
 },
 "nbformat": 4,
 "nbformat_minor": 2
}
